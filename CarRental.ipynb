{
 "cells": [
  {
   "cell_type": "code",
   "execution_count": 10,
   "metadata": {},
   "outputs": [
    {
     "name": "stdout",
     "output_type": "stream",
     "text": [
      "Please enter your name: Bob\n",
      "Please enter the car type: Standard\n",
      "Please enter the days of rent: 8\n",
      "\n",
      "Name:  Bob\n",
      "Car type:  Standard\n",
      "Days of rent:  8\n",
      "Discount:  120.0\n",
      "Total bill:  480.0\n"
     ]
    }
   ],
   "source": [
    "total = 0\n",
    "base = 65\n",
    "discount_rate = 0.2\n",
    "discount = 0\n",
    "car_types = [\"Compact\", \"Standard\", \"SUV\", \"Van\"]\n",
    "additional = [0, 10, 15, 25]\n",
    "name = input(\"Please enter your name: \")\n",
    "car_type = input(\"Please enter the car type: \")\n",
    "if car_type not in car_types:\n",
    "    print(\"Invalid input!\")\n",
    "else:\n",
    "    days = int(input(\"Please enter the days of rent: \"))\n",
    "    if days<1:\n",
    "        print(\"No car rented!\")\n",
    "    else:\n",
    "        if days>1 and days<8:\n",
    "            if car_type == car_types[0]:\n",
    "                total = (base + additional[0]) * days\n",
    "            elif car_type == car_types[1]:\n",
    "                total = (base + additional[1]) * days\n",
    "            elif car_type == car_types[2]:\n",
    "                total = (base + additional[2]) * days\n",
    "            elif car_type == car_types[3]:\n",
    "                total = (base + additional[3]) * days\n",
    "        elif days>7:\n",
    "            if car_type == car_types[0]:\n",
    "                total = (base + additional[0]) * days\n",
    "                discount = (discount_rate*total)\n",
    "                total = total - discount\n",
    "            elif car_type == car_types[1]:\n",
    "                total = (base + additional[1]) * days\n",
    "                discount = (discount_rate*total)\n",
    "                total = total - discount\n",
    "            elif car_type == car_types[2]:\n",
    "                total = (base + additional[2]) * days\n",
    "                discount = (discount_rate*total)\n",
    "                total = total - discount\n",
    "            elif car_type == car_types[3]:\n",
    "                total = (base + additional[3]) * days\n",
    "                discount = (discount_rate*total)\n",
    "                total = total - discount\n",
    "                \n",
    "        print(\"\")\n",
    "        print(\"Name: \", name)\n",
    "        print(\"Car type: \", car_type)\n",
    "        print(\"Days of rent: \", days)\n",
    "        print(\"Discount: \", discount)\n",
    "        print(\"Total bill: \", total)\n",
    "\n"
   ]
  }
 ],
 "metadata": {
  "kernelspec": {
   "display_name": "Python 3",
   "language": "python",
   "name": "python3"
  },
  "language_info": {
   "codemirror_mode": {
    "name": "ipython",
    "version": 3
   },
   "file_extension": ".py",
   "mimetype": "text/x-python",
   "name": "python",
   "nbconvert_exporter": "python",
   "pygments_lexer": "ipython3",
   "version": "3.8.5"
  }
 },
 "nbformat": 4,
 "nbformat_minor": 4
}
